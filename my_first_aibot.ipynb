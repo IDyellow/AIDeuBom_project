{
  "nbformat": 4,
  "nbformat_minor": 0,
  "metadata": {
    "colab": {
      "provenance": []
    },
    "kernelspec": {
      "name": "python3",
      "display_name": "Python 3"
    },
    "language_info": {
      "name": "python"
    }
  },
  "cells": [
    {
      "cell_type": "code",
      "execution_count": 2,
      "metadata": {
        "id": "HisdtIg-PGI9"
      },
      "outputs": [],
      "source": [
        "# Instalando a IA generativa do Google Gemini\n",
        "!pip install -q -U google-generativeai"
      ]
    },
    {
      "cell_type": "code",
      "source": [
        "# Importando as dependências e configurando a API Key\n",
        "import imghdr\n",
        "import google.generativeai as genai\n",
        "from google.colab import userdata\n",
        "\n",
        "api_key = userdata.get('secret_key')\n",
        "\n",
        "genai.configure(api_key=api_key)"
      ],
      "metadata": {
        "id": "5gZ9awCtPI5k"
      },
      "execution_count": 3,
      "outputs": []
    },
    {
      "cell_type": "code",
      "source": [
        "# Lista dos modelos que podem ser utilizados\n",
        "for m in genai.list_models():\n",
        "  if 'generateContent' in m.supported_generation_methods:\n",
        "    print(m.name)"
      ],
      "metadata": {
        "colab": {
          "base_uri": "https://localhost:8080/",
          "height": 146
        },
        "id": "MAkzmhIGPQc-",
        "outputId": "c75df4e5-1e3f-4a39-ab12-3ded08c33f41"
      },
      "execution_count": 4,
      "outputs": [
        {
          "output_type": "stream",
          "name": "stdout",
          "text": [
            "models/gemini-1.0-pro\n",
            "models/gemini-1.0-pro-001\n",
            "models/gemini-1.0-pro-latest\n",
            "models/gemini-1.0-pro-vision-latest\n",
            "models/gemini-1.5-pro-latest\n",
            "models/gemini-pro\n",
            "models/gemini-pro-vision\n"
          ]
        }
      ]
    },
    {
      "cell_type": "code",
      "source": [
        "# Configurações do modelo\n",
        "generation_config = {\n",
        "    \"candidate_count\": 1,\n",
        "    \"temperature\": 0.7,\n",
        "    }\n",
        "\n",
        "safety_settings={\n",
        "    'HATE': 'BLOCK_NONE',\n",
        "    'HARASSMENT': 'BLOCK_NONE',\n",
        "    'SEXUAL' : 'BLOCK_NONE',\n",
        "    'DANGEROUS' : 'BLOCK_NONE',\n",
        "    }\n",
        "\n",
        "system_instruction = \"Seja um professor carismático. Responda de forma informal. Nivele sua resposta com a dificuldade da pergunta. Não interaja solicitando outra mensagem ao usuário.\""
      ],
      "metadata": {
        "id": "hp_MeUxdPTsj"
      },
      "execution_count": 5,
      "outputs": []
    },
    {
      "cell_type": "code",
      "source": [
        "# Criação do modelo de IA generativa\n",
        "model = genai.GenerativeModel(\n",
        "    model_name='gemini-1.5-pro-latest',\n",
        "    generation_config=generation_config,\n",
        "    safety_settings=safety_settings,\n",
        "    system_instruction=system_instruction\n",
        "    )"
      ],
      "metadata": {
        "id": "ToduZGfbPbKs"
      },
      "execution_count": 6,
      "outputs": []
    },
    {
      "cell_type": "code",
      "source": [
        "# Criação do chatbot\n",
        "chat = model.start_chat(history=[])\n",
        "\n",
        "user_theme = input('Olá! Antes de tudo, me diga algo que te interessa? (ex: futebol, anime, tecnologia, etc.)\\n\\n')\n",
        "user_input = input('\\nMuito bem, e o que você gostaria de aprender? Pode me enviar imagens ou textos, ficarei feliz em poder te ajudar!\\n\\n')\n",
        "\n",
        "def identificar_input(input_string):\n",
        "  try:\n",
        "    if imghdr.what(input_string) is not None:\n",
        "      return \"imagem\"\n",
        "    else:\n",
        "      return \"texto\"\n",
        "  except:\n",
        "    return \"inválido\"\n",
        "\n",
        "tipo_input = identificar_input(user_input)\n",
        "\n",
        "while True:\n",
        "    if tipo_input == \"imagem\":\n",
        "      prompt = [genai.upload_file(user_input), f\"Descreva a imagem. Resolva a questão passo a passo e justifique sua resposta utilizando como contexto: {user_theme}.\"]\n",
        "      break\n",
        "    else:\n",
        "      prompt = [user_input, f\"Resolva a questão passo a passo e justifique sua resposta utilizando como contexto: {user_theme}.\"]\n",
        "      break\n",
        "\n",
        "response = chat.send_message(prompt)\n",
        "print(f'\\n', response.text, '\\n')\n",
        "\n",
        "continue_chat = input('\\nFicou com alguma dúvida? (S/N)\\n')\n",
        "\n",
        "while continue_chat not in ['S', 'N']:\n",
        "    print('Por favor, digite S ou N.')\n",
        "    continue_chat = input('\\nFicou com alguma dúvida? (S/N)\\n')\n",
        "\n",
        "while continue_chat == 'S':\n",
        "    user_input = input('\\nPor favor, digite sua dúvida:\\n')\n",
        "    prompt = [user_input, \"Resolva a questão de forma simples e explique passo a passo as etapas. Justifique sua resposta.\"]\n",
        "    response = chat.send_message(prompt)\n",
        "    print(f'\\n', response.text, '\\n')\n",
        "    continue_chat = input('Ficou com alguma dúvida? (S/N)\\n')\n",
        "\n",
        "print('\\nObrigado por usar a Generative AI da Google!')\n"
      ],
      "metadata": {
        "id": "Hg7S1DXHS3gJ"
      },
      "execution_count": null,
      "outputs": []
    }
  ]
}