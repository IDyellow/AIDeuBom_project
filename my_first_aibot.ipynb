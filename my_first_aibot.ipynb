{
  "nbformat": 4,
  "nbformat_minor": 0,
  "metadata": {
    "colab": {
      "provenance": []
    },
    "kernelspec": {
      "name": "python3",
      "display_name": "Python 3"
    },
    "language_info": {
      "name": "python"
    }
  },
  "cells": [
    {
      "cell_type": "code",
      "execution_count": 1,
      "metadata": {
        "id": "HisdtIg-PGI9"
      },
      "outputs": [],
      "source": [
        "# Instalando a IA generativa do Google Gemini\n",
        "!pip install -q -U google-generativeai"
      ]
    },
    {
      "cell_type": "code",
      "source": [
        "# Importando as dependências e configurando a API Key\n",
        "import imghdr\n",
        "import google.generativeai as genai\n",
        "from google.colab import userdata\n",
        "\n",
        "api_key = userdata.get('secret_key')\n",
        "\n",
        "genai.configure(api_key=api_key)"
      ],
      "metadata": {
        "id": "5gZ9awCtPI5k"
      },
      "execution_count": 2,
      "outputs": []
    },
    {
      "cell_type": "code",
      "source": [
        "# Lista dos modelos que podem ser utilizados\n",
        "for m in genai.list_models():\n",
        "  if 'generateContent' in m.supported_generation_methods:\n",
        "    print(m.name)"
      ],
      "metadata": {
        "colab": {
          "base_uri": "https://localhost:8080/",
          "height": 146
        },
        "id": "MAkzmhIGPQc-",
        "outputId": "5a408577-d9d1-42d0-ff7c-ca9a88bb38e4"
      },
      "execution_count": 3,
      "outputs": [
        {
          "output_type": "stream",
          "name": "stdout",
          "text": [
            "models/gemini-1.0-pro\n",
            "models/gemini-1.0-pro-001\n",
            "models/gemini-1.0-pro-latest\n",
            "models/gemini-1.0-pro-vision-latest\n",
            "models/gemini-1.5-pro-latest\n",
            "models/gemini-pro\n",
            "models/gemini-pro-vision\n"
          ]
        }
      ]
    },
    {
      "cell_type": "code",
      "source": [
        "# Configurações do modelo\n",
        "generation_config = {\n",
        "    \"candidate_count\": 1,\n",
        "    \"temperature\": 0.9,\n",
        "    }\n",
        "\n",
        "safety_settings={\n",
        "    'HATE': 'BLOCK_NONE',\n",
        "    'HARASSMENT': 'BLOCK_NONE',\n",
        "    'SEXUAL' : 'BLOCK_NONE',\n",
        "    'DANGEROUS' : 'BLOCK_NONE',\n",
        "    }\n",
        "\n",
        "system_instruction = \"Responda de forma informal e que gere entusiasmo ao leitor pelo conteúdo da resposta\""
      ],
      "metadata": {
        "id": "hp_MeUxdPTsj"
      },
      "execution_count": 40,
      "outputs": []
    },
    {
      "cell_type": "code",
      "source": [
        "# Criação do modelo de IA generativa\n",
        "model = genai.GenerativeModel(\n",
        "    model_name='gemini-1.5-pro-latest',\n",
        "    generation_config=generation_config,\n",
        "    safety_settings=safety_settings,\n",
        "    system_instruction=system_instruction\n",
        "    )"
      ],
      "metadata": {
        "id": "ToduZGfbPbKs"
      },
      "execution_count": 25,
      "outputs": []
    },
    {
      "cell_type": "code",
      "source": [
        "# Criação do chatbot utilizando o modelo\n",
        "chat = model.start_chat(history=[])\n",
        "\n",
        "user_theme = input('Olá! Antes de tudo, me diga algo que te interessa? (ex: futebol, anime, tecnologia, etc.\\n\\n')\n",
        "user_input = input('\\nMuito bem, e o que você gostaria de aprender? Pode me enviar imagens ou textos, ficarei feliz em poder te ajudar!\\n\\n')\n",
        "\n",
        "def identificar_input(input_string):\n",
        "  try:\n",
        "    if imghdr.what(input_string) is not None:\n",
        "      return \"imagem\"\n",
        "    else:\n",
        "      return \"texto\"\n",
        "  except:\n",
        "    return \"inválido\"\n",
        "\n",
        "tipo_input = identificar_input(user_input)\n",
        "\n",
        "while True:\n",
        "    if tipo_input == \"imagem\":\n",
        "      prompt = [genai.upload_file(user_input), f\"Descreva a imagem. Resolva a questão passo a passo e justifique sua resposta utilizando como contexto: {user_theme}.\"]\n",
        "      break\n",
        "    else:\n",
        "      prompt = [user_input, f\"Resolva a questão passo a passo e justifique sua resposta utilizando como contexto: {user_theme}.\"]\n",
        "      break\n",
        "\n",
        "response = chat.send_message(prompt)\n",
        "print(f'\\n', response.text, '\\n')\n",
        "\n",
        "continue_chat = input('\\nFicou com alguma dúvida? (S/N)\\n')\n",
        "\n",
        "while continue_chat not in ['S', 'N']:\n",
        "    print('Por favor, digite S ou N.')\n",
        "    continue_chat = input('\\nFicou com alguma dúvida? (S/N)\\n')\n",
        "\n",
        "while continue_chat == 'S':\n",
        "    user_input = input('\\nPor favor, digite sua dúvida:\\n')\n",
        "    prompt = [user_input, \"Resolva a questão de forma simples e explique passo a passo as etapas. Justifique sua resposta.\"]\n",
        "    response = chat.send_message(prompt)\n",
        "    print(f'\\n', response.text, '\\n')\n",
        "    continue_chat = input('Ficou com alguma dúvida? (S/N)\\n')\n",
        "\n",
        "print('\\nObrigado por usar a Generative AI da Google!')\n",
        "\n"
      ],
      "metadata": {
        "colab": {
          "base_uri": "https://localhost:8080/",
          "height": 406
        },
        "id": "Hg7S1DXHS3gJ",
        "outputId": "896eed08-96e8-43ff-d2ce-136563903cb6"
      },
      "execution_count": 39,
      "outputs": [
        {
          "output_type": "stream",
          "name": "stdout",
          "text": [
            "Olá! Antes de tudo, me diga algo que te interessa? (ex: futebol, anime, tecnologia, etc.\n",
            "\n",
            "morte\n",
            "\n",
            "Muito bem, e o que você gostaria de aprender? Pode me enviar imagens ou textos, ficarei feliz em poder te ajudar!\n",
            "\n",
            "religiao\n",
            "\n",
            " Eita! Essa pergunta é profunda! 🤔 Quer discutir sobre religião e o grande mistério da morte? ⚰️  Adoro! É um tema que fascina a humanidade desde sempre! \n",
            "\n",
            "Mas, para te guiar nessa jornada filosófica, preciso que você me dê mais detalhes! Qual é a pergunta específica que te intriga?  Me conte qual é o ponto que você quer analisar, e aí mergulhamos juntos nesse mar de reflexões! 😉 \n",
            "\n",
            "Pode ser sobre diferentes religiões e suas visões sobre a morte, o que acontece depois,  o sentido da vida frente à inevitabilidade do fim... Seja lá qual for a sua questão, vamos desvendar esse enigma! 🕵️‍♀️ Conte comigo! 😄 \n",
            " \n",
            "\n",
            "\n",
            "Ficou com alguma dúvida? (S/N)\n",
            "N\n",
            "\n",
            "Obrigado por usar a Generative AI da Google!\n"
          ]
        }
      ]
    },
    {
      "cell_type": "code",
      "source": [],
      "metadata": {
        "id": "k0E9gS4dwCVx"
      },
      "execution_count": null,
      "outputs": []
    }
  ]
}